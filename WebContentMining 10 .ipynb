{
  "nbformat": 4,
  "nbformat_minor": 0,
  "metadata": {
    "colab": {
      "provenance": [],
      "authorship_tag": "ABX9TyMhyQ7kwFCQEJBN2UxYyALq",
      "include_colab_link": true
    },
    "kernelspec": {
      "name": "python3",
      "display_name": "Python 3"
    },
    "language_info": {
      "name": "python"
    }
  },
  "cells": [
    {
      "cell_type": "markdown",
      "metadata": {
        "id": "view-in-github",
        "colab_type": "text"
      },
      "source": [
        "<a href=\"https://colab.research.google.com/github/Darshini-A/Social-Network-Analysis/blob/main/WebContentMining%209%20.ipynb\" target=\"_parent\"><img src=\"https://colab.research.google.com/assets/colab-badge.svg\" alt=\"Open In Colab\"/></a>"
      ]
    },
    {
      "cell_type": "code",
      "execution_count": 3,
      "metadata": {
        "colab": {
          "base_uri": "https://localhost:8080/"
        },
        "id": "RlPZgbv82JrP",
        "outputId": "9084d3c3-fbfe-4b9a-d7b7-8a3301d9872e"
      },
      "outputs": [
        {
          "output_type": "stream",
          "name": "stdout",
          "text": [
            "SITA | Easy and safe travel every step of the way\n"
          ]
        }
      ],
      "source": [
        "import requests\n",
        "from bs4 import BeautifulSoup\n",
        "\n",
        "url = \"http://www.sita.com\"\n",
        "response = requests.get(url)\n",
        "if response.status_code == 200:\n",
        "  soup = BeautifulSoup(response.content, \"html.parser\")\n",
        "  titles = soup.find_all(\"title\")\n",
        "  for title in titles:\n",
        "    print(title.text.strip())\n",
        "else:\n",
        "    print(\"Failed to retrieve the website content.\")"
      ]
    }
  ]
}
