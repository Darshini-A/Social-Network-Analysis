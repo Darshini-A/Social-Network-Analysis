{
  "nbformat": 4,
  "nbformat_minor": 0,
  "metadata": {
    "colab": {
      "provenance": [],
      "authorship_tag": "ABX9TyNVmyzXLCXLynB+gppHl4ZG",
      "include_colab_link": true
    },
    "kernelspec": {
      "name": "python3",
      "display_name": "Python 3"
    },
    "language_info": {
      "name": "python"
    }
  },
  "cells": [
    {
      "cell_type": "markdown",
      "metadata": {
        "id": "view-in-github",
        "colab_type": "text"
      },
      "source": [
        "<a href=\"https://colab.research.google.com/github/Darshini-A/Social-Network-Analysis/blob/main/WebStructureMining%2011%20.ipynb\" target=\"_parent\"><img src=\"https://colab.research.google.com/assets/colab-badge.svg\" alt=\"Open In Colab\"/></a>"
      ]
    },
    {
      "cell_type": "code",
      "execution_count": 10,
      "metadata": {
        "colab": {
          "base_uri": "https://localhost:8080/"
        },
        "id": "alBfuw7r31h7",
        "outputId": "2ae5c902-8c87-42db-c9ac-59e18f098f4d"
      },
      "outputs": [
        {
          "output_type": "stream",
          "name": "stdout",
          "text": [
            "Title: Unacademy -  India's largest learning platform\n",
            "-/\n",
            "-/explore\n",
            "-/about\n",
            "-/shikshodaya\n",
            "-/careers\n",
            "-/privacy\n",
            "-/terms\n",
            "-/guidelines\n",
            "-/sitemap\n",
            "-/refund-policy\n",
            "-/takedown-policy\n",
            "-/ugrc\n",
            "-/goal/jee-main-and-advanced-preparation/TMUVD\n",
            "-/goal/upsc-civil-services-examination-ias-preparation/KSCGY\n",
            "-/goal/ssc-exams-non-technical/VLEMN\n",
            "-/goal/csir-ugc-net/BIZXQ\n",
            "-/goal/neet-ug/YOTUH\n",
            "-/goal/kota-jee-coaching/TMUVD/centre/Kota-Centre/NXG6I0UBPB?source=footer\n",
            "-/goal/kota-neet-coaching/YOTUH/centre/Kota-Centre/NXG6I0UBPB?source=footer\n",
            "-/goal/kota-foundation-coaching/TPSBK/centre/Kota-Centre/NXG6I0UBPB?source=footer\n",
            "-/goal/UPSC-coaching/KSCGY/centre/Delhi-Centre/ZKSQFCU30C?source=footer\n",
            "-/content/upsc/study-material\n",
            "-/content/neet-ug/study-material\n",
            "-/content/ca-foundation/study-material\n",
            "-/content/jee/study-material\n",
            "-/content/ssc/study-material\n"
          ]
        }
      ],
      "source": [
        "import requests\n",
        "from bs4 import BeautifulSoup\n",
        "\n",
        "def crawl_website(url, visited):\n",
        "  visited.add(url)\n",
        "  response = requests.get(url)\n",
        "  soup = BeautifulSoup(response.content, \"html.parser\")\n",
        "  title = soup.title.string.strip()\n",
        "  links = []\n",
        "  for a_tag in soup.find_all(\"a\", href = True):\n",
        "    link = a_tag[\"href\"]\n",
        "    if link.startswith(\"/\") and link not in visited:\n",
        "      links.append(link)\n",
        "  return title, links\n",
        "\n",
        "url = \"https://unacademy.com/\"\n",
        "visited = set()\n",
        "title, links = crawl_website(url, visited)\n",
        "print(f\"Title: {title}\")\n",
        "\n",
        "for link in links:\n",
        "  print(f\"-{link}\")"
      ]
    }
  ]
}