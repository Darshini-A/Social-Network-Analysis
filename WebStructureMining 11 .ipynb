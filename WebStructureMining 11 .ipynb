{
  "nbformat": 4,
  "nbformat_minor": 0,
  "metadata": {
    "colab": {
      "provenance": [],
      "authorship_tag": "ABX9TyMIscw7AtOfumn7OFGxBTRv",
      "include_colab_link": true
    },
    "kernelspec": {
      "name": "python3",
      "display_name": "Python 3"
    },
    "language_info": {
      "name": "python"
    }
  },
  "cells": [
    {
      "cell_type": "markdown",
      "metadata": {
        "id": "view-in-github",
        "colab_type": "text"
      },
      "source": [
        "<a href=\"https://colab.research.google.com/github/Darshini-A/Social-Network-Analysis/blob/main/WebStructureMining%2010%20.ipynb\" target=\"_parent\"><img src=\"https://colab.research.google.com/assets/colab-badge.svg\" alt=\"Open In Colab\"/></a>"
      ]
    },
    {
      "cell_type": "code",
      "execution_count": 5,
      "metadata": {
        "colab": {
          "base_uri": "https://localhost:8080/"
        },
        "id": "alBfuw7r31h7",
        "outputId": "9f149bd4-7b6c-453f-b094-2a03af95b47a"
      },
      "outputs": [
        {
          "output_type": "stream",
          "name": "stdout",
          "text": [
            "Title: Truecaller - Leading Global Caller ID & Call Blocking App\n",
            "-/\n",
            "-/about\n",
            "-/features\n",
            "-/premium\n",
            "-/reverse-phone-number-lookup\n",
            "-/call-screening\n",
            "-/call-recording\n",
            "-/send-whatsapp-without-saving-number-and-message-caller-id-for-messaging-apps\n",
            "-/instant-messaging\n",
            "-/privacy/privacy-center\n",
            "-/download\n",
            "-/caller-id\n",
            "-/spam-blocking\n",
            "-/features#spam-tab\n",
            "-/messaging\n",
            "-/features\n",
            "-/blog/features/truecaller-for-iphone-revamped\n",
            "-/impact\n",
            "-/about\n",
            "-/impact\n",
            "-/safety\n",
            "-/careers\n",
            "-/download\n",
            "-/features\n",
            "-/premium\n",
            "-/reverse-phone-number-lookup\n",
            "-/privacy/privacy-center\n",
            "-/blog\n",
            "-/blog/category/insights\n",
            "-/blog/category/scam-alert\n",
            "-/blog/category/features\n",
            "-/blog/category/impact\n",
            "-/blog/category/news\n",
            "-/blog/category/diversity-and-inclusion\n",
            "-/blog/category/life-at-truecaller\n",
            "-/privacy/privacy-center\n",
            "-/terms-of-service\n",
            "-/cookie-policy\n",
            "-/responsible-disclosure\n",
            "-/directory\n",
            "-/publication-certificate\n",
            "-/truecaller-code-of-conduct.pdf\n"
          ]
        }
      ],
      "source": [
        "import requests\n",
        "\n",
        "def crawl_website(url, visited):\n",
        "  visited.add(url)\n",
        "  response = requests.get(url)\n",
        "  soup = BeautifulSoup(response.content, \"html.parser\")\n",
        "  title = soup.title.string.strip()\n",
        "  links = []\n",
        "  for a_tag in soup.find_all(\"a\", href = True):\n",
        "    link = a_tag[\"href\"]\n",
        "    if link.startswith(\"/\") and link not in visited:\n",
        "      links.append(link)\n",
        "  return title, links\n",
        "\n",
        "url = \"http://www.truecaller.com\"\n",
        "visited = set()\n",
        "title, links = crawl_website(url, visited)\n",
        "print(f\"Title: {title}\")\n",
        "\n",
        "for link in links:\n",
        "  print(f\"-{link}\")"
      ]
    }
  ]
}
