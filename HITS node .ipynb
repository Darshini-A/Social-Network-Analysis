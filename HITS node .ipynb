{
  "nbformat": 4,
  "nbformat_minor": 0,
  "metadata": {
    "colab": {
      "provenance": [],
      "authorship_tag": "ABX9TyPzdiUv7Mx66zcF+zzRGYnF",
      "include_colab_link": true
    },
    "kernelspec": {
      "name": "python3",
      "display_name": "Python 3"
    },
    "language_info": {
      "name": "python"
    }
  },
  "cells": [
    {
      "cell_type": "markdown",
      "metadata": {
        "id": "view-in-github",
        "colab_type": "text"
      },
      "source": [
        "<a href=\"https://colab.research.google.com/github/Darshini-A/Social-Network-Analysis/blob/main/HITSnode%206%20.ipynb\" target=\"_parent\"><img src=\"https://colab.research.google.com/assets/colab-badge.svg\" alt=\"Open In Colab\"/></a>"
      ]
    },
    {
      "cell_type": "code",
      "execution_count": 4,
      "metadata": {
        "colab": {
          "base_uri": "https://localhost:8080/"
        },
        "id": "yj75Pdt332sf",
        "outputId": "94c1e189-6585-4257-db7d-4cec872f5d21"
      },
      "outputs": [
        {
          "output_type": "stream",
          "name": "stdout",
          "text": [
            "Node 1 - Authority : 0.0331 , Hub : 0.4017\n",
            "Node 2 - Authority : 0.3372 , Hub : 0.6141\n",
            "Node 3 - Authority : 0.3056 , Hub : 0.6776\n",
            "Node 4 - Authority : 0.8898 , Hub : 0.0480\n"
          ]
        }
      ],
      "source": [
        "import networkx as nx\n",
        "\n",
        "def hits(G, iterations = 10):\n",
        "  scores = {node: {'authority':1, 'hub':1} for node in G.nodes()}\n",
        "  for _ in range(iterations):\n",
        "    for node in G.nodes():\n",
        "      authority = sum(scores[predecessor]['hub'] for predecessor in G.predecessors(node))\n",
        "      scores[node]['authority'] = authority\n",
        "      hub = sum(scores[successor]['authority'] for successor in G.successors(node))\n",
        "      scores[node]['hub'] = hub\n",
        "      authority_sum_squares = sum(score['authority'] ** 2 for score in scores.values())\n",
        "      hub_sum_squares = sum(score['hub'] ** 2 for score in scores.values())\n",
        "      for node in G.nodes():\n",
        "        scores[node]['authority'] /= authority_sum_squares ** 0.5\n",
        "        scores[node]['hub'] /= hub_sum_squares ** 0.5\n",
        "  return scores\n",
        "\n",
        "G = nx.DiGraph()\n",
        "G.add_edge(1,2)\n",
        "G.add_edge(1,3)\n",
        "G.add_edge(2,4)\n",
        "G.add_edge(3,4)\n",
        "G.add_edge(4,1)\n",
        "\n",
        "results = hits(G)\n",
        "\n",
        "for node, scores in results.items():\n",
        "  print(f\"Node {node} - Authority : {scores['authority']:.4f} , Hub : {scores['hub']:.4f}\")"
      ]
    }
  ]
}
