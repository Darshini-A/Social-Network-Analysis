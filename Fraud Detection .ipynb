{
  "nbformat": 4,
  "nbformat_minor": 0,
  "metadata": {
    "colab": {
      "provenance": [],
      "authorship_tag": "ABX9TyM9BLtSl07jwMYaw89/BLxU",
      "include_colab_link": true
    },
    "kernelspec": {
      "name": "python3",
      "display_name": "Python 3"
    },
    "language_info": {
      "name": "python"
    }
  },
  "cells": [
    {
      "cell_type": "markdown",
      "metadata": {
        "id": "view-in-github",
        "colab_type": "text"
      },
      "source": [
        "<a href=\"https://colab.research.google.com/github/Darshini-A/Social-Network-Analysis/blob/main/Fraud%20Detection%20%3A%20assignment%20.ipynb\" target=\"_parent\"><img src=\"https://colab.research.google.com/assets/colab-badge.svg\" alt=\"Open In Colab\"/></a>"
      ]
    },
    {
      "cell_type": "code",
      "source": [
        "import networkx as nx\n",
        "\n",
        "transaction_data = [\n",
        "    ('Alice', 'Bob', 100),\n",
        "    ('Alice', 'Charlie', 200),\n",
        "    ('Bob', 'Charlie', 150),\n",
        "    ('Charlie', 'David', 300),\n",
        "    ('David', 'Alice', 400),\n",
        "    ('Eve', 'Alice', 500),\n",
        "    ('Eve', 'Bob', 600),\n",
        "]\n",
        "\n",
        "threshold = 0.5\n",
        "\n",
        "def detect_fraudulent_activity(transaction_data, threshold):\n",
        "    G = nx.DiGraph()\n",
        "\n",
        "    for sender, receiver, amount in transaction_data:\n",
        "            if G.has_edge(sender, receiver):\n",
        "                G[sender][receiver]['amount'] += amount\n",
        "            else:\n",
        "                G.add_edge(sender, receiver, amount=amount)\n",
        "\n",
        "    centrality_scores = nx.degree_centrality(G)\n",
        "\n",
        "    suspicious_nodes = [node for node, centrality in centrality_scores.items() if centrality > threshold]\n",
        "\n",
        "    return suspicious_nodes\n",
        "\n",
        "\n",
        "suspicious_nodes = detect_fraudulent_activity(transaction_data, threshold)\n",
        "\n",
        "print(\"Suspicious nodes:\", suspicious_nodes)"
      ],
      "metadata": {
        "colab": {
          "base_uri": "https://localhost:8080/"
        },
        "id": "GbYAo9tJNDnt",
        "outputId": "9a487edb-42be-4baa-ece8-917aad17b913"
      },
      "execution_count": 6,
      "outputs": [
        {
          "output_type": "stream",
          "name": "stdout",
          "text": [
            "Suspicious nodes: ['Alice', 'Bob', 'Charlie']\n"
          ]
        }
      ]
    },
    {
      "cell_type": "markdown",
      "source": [
        "The above code provides a basic example of how network analysis techniques are used to detect potential fraudulent activity in financial transaction data.\n",
        "*Here, anomaly detection technique is used to identify suspicious patterns in the network.*\n",
        "---\n",
        "\n",
        "In a financial transaction network, most people make transactions with a few regular contacts and the transaction amount follows a certain distribution.\n",
        "An anamoly detection technique would look for transactions that are significantly larger or smaller than usual or transactions involving unexpected combination of parties.\n",
        "Overall, anomaly detection in a network involves comparing the behaviour of individual nodes (users) or edges (transactions) to the typical behaviour of the network as a whole. Any deviations from this typical behaviour may indicate suspicious or fraudulent activity.\n",
        "\n",
        "Consider an example transaction dataset and set a threshold for identifying suspicious nodes.\n",
        "Define a function detect_fraudulent_activity to take transaction data and a threshold as input.\n",
        "A directed graph G is created to represent the transaction network using NetworkX. Nodes represent users, and edges represent transactions between users.\n",
        "Nodes and edges are added to the graph based on the transaction data. If multiple transactions occur between the same sender and receiver, it aggregates the transaction amounts.\n",
        "Node centrality scores are calculated to identify potential hubs of fraudulent activity. Nodes with unusually high centrality scores compared to the threshold are considered suspicious.\n",
        "Then return a list of suspicious nodes based on the network structure.\n",
        "\n",
        "Hence, fraudulent activity in the transaction data is detected by calling the detect_fraudulent_activity function and prints the suspicious nodes."
      ],
      "metadata": {
        "id": "BF_RbtlAND7a"
      }
    }
  ]
}
